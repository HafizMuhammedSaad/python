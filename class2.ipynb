{
 "cells": [
  {
   "cell_type": "code",
   "execution_count": 3,
   "id": "507e401c-3d98-431d-9160-a9f59a63f5fa",
   "metadata": {},
   "outputs": [
    {
     "name": "stdout",
     "output_type": "stream",
     "text": [
      "Hello World\n",
      "Saad\n",
      "<class 'str'>\n",
      "16\n",
      "<class 'int'>\n",
      "55.002934\n",
      "<class 'float'>\n",
      "True\n",
      "<class 'bool'>\n"
     ]
    },
    {
     "data": {
      "text/plain": [
       "140733334506048"
      ]
     },
     "execution_count": 3,
     "metadata": {},
     "output_type": "execute_result"
    }
   ],
   "source": [
    "print(\"Hello World\")\n",
    "\n",
    "#string\n",
    "name = 'Saad'\n",
    "print(name)\n",
    "print(type(name))\n",
    "id(name)\n",
    "\n",
    "\n",
    "#integer\n",
    "age = 16\n",
    "print(age)\n",
    "print(type(age))\n",
    "id(age)\n",
    "\n",
    "\n",
    "#float\n",
    "weight = 55.002934\n",
    "print(weight)\n",
    "print(type(weight))\n",
    "id(weight)\n",
    "\n",
    "\n",
    "#boolean\n",
    "is_present = True\n",
    "print(is_present)\n",
    "print(type(is_present))\n",
    "id(is_present)"
   ]
  },
  {
   "cell_type": "code",
   "execution_count": 2,
   "id": "f021beb2-c0ad-4ed1-9817-59d1fc077292",
   "metadata": {},
   "outputs": [
    {
     "name": "stdout",
     "output_type": "stream",
     "text": [
      "Hello, World!\n"
     ]
    }
   ],
   "source": [
    "greeting = \"Hello\"\n",
    "seprators = \", \"\n",
    "addresse = \"World\"\n",
    "punc = \"!\"\n",
    "whole_greeting = greeting + seprators + addresse + punc\n",
    "print(whole_greeting)"
   ]
  },
  {
   "cell_type": "code",
   "execution_count": 4,
   "id": "4f9f27a9-6823-4ac1-8eb3-ed8c1c51f6dc",
   "metadata": {},
   "outputs": [
    {
     "ename": "NameError",
     "evalue": "name 'name' is not defined",
     "output_type": "error",
     "traceback": [
      "\u001b[1;31m---------------------------------------------------------------------------\u001b[0m",
      "\u001b[1;31mNameError\u001b[0m                                 Traceback (most recent call last)",
      "Cell \u001b[1;32mIn[4], line 1\u001b[0m\n\u001b[1;32m----> 1\u001b[0m \u001b[38;5;28mprint\u001b[39m(\u001b[38;5;124m\"\u001b[39m\u001b[38;5;124mStudent Name :\u001b[39m\u001b[38;5;124m\"\u001b[39m,name)\n\u001b[0;32m      2\u001b[0m \u001b[38;5;28mprint\u001b[39m(\u001b[38;5;124m\"\u001b[39m\u001b[38;5;124mStudent Age :\u001b[39m\u001b[38;5;124m\"\u001b[39m,age)\n\u001b[0;32m      3\u001b[0m \u001b[38;5;28mprint\u001b[39m(\u001b[38;5;124m\"\u001b[39m\u001b[38;5;124mstudent Weight :\u001b[39m\u001b[38;5;124m\"\u001b[39m,weight)\n",
      "\u001b[1;31mNameError\u001b[0m: name 'name' is not defined"
     ]
    }
   ],
   "source": [
    "print(\"Student Name :\",name)\n",
    "print(\"Student Age :\",age)\n",
    "print(\"student Weight :\",weight)\n",
    "print(\"Student is_present :\",is_present)"
   ]
  },
  {
   "cell_type": "code",
   "execution_count": null,
   "id": "f06319bd-f925-4824-8d8e-7f2693b1377a",
   "metadata": {},
   "outputs": [],
   "source": []
  }
 ],
 "metadata": {
  "kernelspec": {
   "display_name": "Python 3 (ipykernel)",
   "language": "python",
   "name": "python3"
  },
  "language_info": {
   "codemirror_mode": {
    "name": "ipython",
    "version": 3
   },
   "file_extension": ".py",
   "mimetype": "text/x-python",
   "name": "python",
   "nbconvert_exporter": "python",
   "pygments_lexer": "ipython3",
   "version": "3.11.7"
  }
 },
 "nbformat": 4,
 "nbformat_minor": 5
}
