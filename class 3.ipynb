{
 "cells": [
  {
   "cell_type": "markdown",
   "id": "aa167793-01e1-4ecf-b149-276a1f360cf2",
   "metadata": {},
   "source": [
    "## Conditional Statement "
   ]
  },
  {
   "cell_type": "code",
   "execution_count": 5,
   "id": "66ae7eaa-c13b-427b-b557-f4b7f2ca91ff",
   "metadata": {},
   "outputs": [
    {
     "name": "stdout",
     "output_type": "stream",
     "text": [
      "Pakistani's will not celebrate\n"
     ]
    }
   ],
   "source": [
    "result = \"win\" #\"win\"/\"loss\"/\"Tie\"\n",
    "\n",
    "\n",
    "if result == \"Win\":\n",
    "   print(\"Pakistani's will celebrate\")\n",
    "elif result == \"Tie\":\n",
    "    print(\"Both teams will get one point\")\n",
    "else:\n",
    "    print(\"Pakistani's will not celebrate\")"
   ]
  },
  {
   "cell_type": "code",
   "execution_count": 14,
   "id": "fdd0072d-27d8-47ef-885f-e3c876cf4ba7",
   "metadata": {},
   "outputs": [
    {
     "name": "stdout",
     "output_type": "stream",
     "text": [
      "The car name is Mehran\n"
     ]
    }
   ],
   "source": [
    "vehicle = \"Mehran\"\n",
    "if(vehicle==\"Mehran\"):\n",
    "    print(f'The car name is {vehicle}')\n",
    "elif(vehicle==\"toyota\"):\n",
    "     print(f'The car name is {vehicle}')\n",
    "elif(vehicle==\"suzuki\"):\n",
    "    print(f'the car name is {vehicle}')\n",
    "elif(vehicle==\"Alto\"):\n",
    "   print(f'the car name is {vehicle}')\n",
    "else:\n",
    "   print(\"the car is not available\")"
   ]
  },
  {
   "cell_type": "code",
   "execution_count": 9,
   "id": "8cbaee85-a309-4e1c-a561-94ffc4c48ce0",
   "metadata": {},
   "outputs": [
    {
     "name": "stdout",
     "output_type": "stream",
     "text": [
      "Your grade is F\n"
     ]
    }
   ],
   "source": [
    "marks = 50\n",
    "\n",
    "if marks >= 80:\n",
    "    print(\"Your grades is A\")\n",
    "elif marks >= 70:\n",
    "    print(\"Your grades is B\")\n",
    "elif marks >= 60:\n",
    "    print(\"Your grades is C\")\n",
    "elif marks > 50:\n",
    "    print(\"Your grade is D\")\n",
    "else:\n",
    "    print(\"Your grade is F\")\n",
    " "
   ]
  },
  {
   "cell_type": "code",
   "execution_count": 18,
   "id": "152bdfef-6ed5-41dd-8efb-f0184f726015",
   "metadata": {},
   "outputs": [
    {
     "ename": "SyntaxError",
     "evalue": "invalid syntax (3977897394.py, line 1)",
     "output_type": "error",
     "traceback": [
      "\u001b[1;36m  Cell \u001b[1;32mIn[18], line 1\u001b[1;36m\u001b[0m\n\u001b[1;33m    int(input(\"Enter your Marks\":))\u001b[0m\n\u001b[1;37m                                ^\u001b[0m\n\u001b[1;31mSyntaxError\u001b[0m\u001b[1;31m:\u001b[0m invalid syntax\n"
     ]
    }
   ],
   "source": [
    "int(input(\"Enter your Marks\":))"
   ]
  },
  {
   "cell_type": "markdown",
   "id": "95f3aaac-9ab4-420c-9b61-221b7ea90093",
   "metadata": {},
   "source": [
    "### Comparision Operators "
   ]
  },
  {
   "cell_type": "code",
   "execution_count": 21,
   "id": "edded112-8cac-4eaf-8a6a-f7db55658f4a",
   "metadata": {},
   "outputs": [
    {
     "data": {
      "text/plain": [
       "True"
      ]
     },
     "execution_count": 21,
     "metadata": {},
     "output_type": "execute_result"
    }
   ],
   "source": [
    "95>=80"
   ]
  },
  {
   "cell_type": "code",
   "execution_count": 23,
   "id": "a21e5155-51cf-46bc-9523-8a487e916afc",
   "metadata": {},
   "outputs": [
    {
     "data": {
      "text/plain": [
       "False"
      ]
     },
     "execution_count": 23,
     "metadata": {},
     "output_type": "execute_result"
    }
   ],
   "source": [
    "90<=80"
   ]
  },
  {
   "cell_type": "code",
   "execution_count": null,
   "id": "ec5b0001-8a3e-4950-bbd6-b0adc00c13a1",
   "metadata": {},
   "outputs": [],
   "source": [
    "all \n"
   ]
  }
 ],
 "metadata": {
  "kernelspec": {
   "display_name": "Python 3 (ipykernel)",
   "language": "python",
   "name": "python3"
  },
  "language_info": {
   "codemirror_mode": {
    "name": "ipython",
    "version": 3
   },
   "file_extension": ".py",
   "mimetype": "text/x-python",
   "name": "python",
   "nbconvert_exporter": "python",
   "pygments_lexer": "ipython3",
   "version": "3.11.7"
  }
 },
 "nbformat": 4,
 "nbformat_minor": 5
}
