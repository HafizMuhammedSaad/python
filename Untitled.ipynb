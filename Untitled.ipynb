{
 "cells": [
  {
   "cell_type": "code",
   "execution_count": 1,
   "id": "85c7f2f0-929e-4e81-884f-538c4f496205",
   "metadata": {},
   "outputs": [
    {
     "name": "stdout",
     "output_type": "stream",
     "text": [
      "Hello World\n"
     ]
    }
   ],
   "source": [
    "print (\"Hello World\")"
   ]
  },
  {
   "cell_type": "code",
   "execution_count": 3,
   "id": "db7bd0c8-4f28-4f9d-99c5-c02f3d10faa2",
   "metadata": {},
   "outputs": [
    {
     "name": "stdout",
     "output_type": "stream",
     "text": [
      "16\n"
     ]
    }
   ],
   "source": [
    "age = 16\n",
    "print (age)\n"
   ]
  },
  {
   "cell_type": "code",
   "execution_count": 5,
   "id": "424fc05b-5494-46f6-8b62-a3696caddc3d",
   "metadata": {},
   "outputs": [
    {
     "name": "stdout",
     "output_type": "stream",
     "text": [
      "60\n"
     ]
    }
   ],
   "source": [
    "weight = 60\n",
    "print (weight)\n"
   ]
  },
  {
   "cell_type": "code",
   "execution_count": 7,
   "id": "35665efd-0d5f-4b58-a326-c1d18eb5ba81",
   "metadata": {},
   "outputs": [
    {
     "name": "stdout",
     "output_type": "stream",
     "text": [
      "5'10\n"
     ]
    }
   ],
   "source": [
    "height = \"5'10\"\n",
    "print (height)"
   ]
  },
  {
   "cell_type": "code",
   "execution_count": null,
   "id": "c7a63c3a-4bde-4da9-b23e-4b28c4f43c5b",
   "metadata": {},
   "outputs": [],
   "source": [
    "height = "
   ]
  }
 ],
 "metadata": {
  "kernelspec": {
   "display_name": "Python 3 (ipykernel)",
   "language": "python",
   "name": "python3"
  },
  "language_info": {
   "codemirror_mode": {
    "name": "ipython",
    "version": 3
   },
   "file_extension": ".py",
   "mimetype": "text/x-python",
   "name": "python",
   "nbconvert_exporter": "python",
   "pygments_lexer": "ipython3",
   "version": "3.11.7"
  }
 },
 "nbformat": 4,
 "nbformat_minor": 5
}
