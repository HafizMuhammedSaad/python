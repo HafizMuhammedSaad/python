{
 "cells": [
  {
   "cell_type": "markdown",
   "id": "aa167793-01e1-4ecf-b149-276a1f360cf2",
   "metadata": {},
   "source": [
    "## Conditional Statement "
   ]
  },
  {
   "cell_type": "code",
   "execution_count": 4,
   "id": "66ae7eaa-c13b-427b-b557-f4b7f2ca91ff",
   "metadata": {},
   "outputs": [
    {
     "name": "stdout",
     "output_type": "stream",
     "text": [
      "Pakistani's will not celebrate\n"
     ]
    }
   ],
   "source": [
    "result = \"win\" #\"win\"/\"loss\"/\"Tie\"\n",
    "\n",
    "\n",
    "if result == \"Win\":\n",
    "   print(\"Pakistani's will celebrate\")\n",
    "elif result == \"Tie\":\n",
    "    print(\"Both teams will get one point\")\n",
    "else:\n",
    "    print(\"Pakistani's will not celebrate\")"
   ]
  },
  {
   "cell_type": "code",
   "execution_count": 3,
   "id": "fdd0072d-27d8-47ef-885f-e3c876cf4ba7",
   "metadata": {},
   "outputs": [
    {
     "ename": "SyntaxError",
     "evalue": "unterminated string literal (detected at line 4) (3721867010.py, line 4)",
     "output_type": "error",
     "traceback": [
      "\u001b[1;36m  Cell \u001b[1;32mIn[3], line 4\u001b[1;36m\u001b[0m\n\u001b[1;33m    elif(vehicle==\"toyota):\u001b[0m\n\u001b[1;37m                  ^\u001b[0m\n\u001b[1;31mSyntaxError\u001b[0m\u001b[1;31m:\u001b[0m unterminated string literal (detected at line 4)\n"
     ]
    }
   ],
   "source": [
    "vehicle = \"Mehran\"\n",
    "if(vehicle==\"Mehran\")\n",
    "    print(f'The car name is {vehicle}')\n",
    "elif(vehicle==\"toyota):\n",
    "     print(f'The car name is {vehicle}')\n",
    "elif(vehicle==\"suzuki\"):\n",
    "    print(f'the car name is {vehicle}')\n",
    "elif(vehicle==\"Alto\")\n",
    "   print(f'the car name is {vehicle}')\n",
    "else"
   ]
  },
  {
   "cell_type": "code",
   "execution_count": null,
   "id": "8cbaee85-a309-4e1c-a561-94ffc4c48ce0",
   "metadata": {},
   "outputs": [],
   "source": [
    "species"
   ]
  },
  {
   "cell_type": "code",
   "execution_count": null,
   "id": "152bdfef-6ed5-41dd-8efb-f0184f726015",
   "metadata": {},
   "outputs": [],
   "source": []
  },
  {
   "cell_type": "code",
   "execution_count": null,
   "id": "0d33547a-53d1-402b-b8bf-0764c46acdc9",
   "metadata": {},
   "outputs": [],
   "source": []
  },
  {
   "cell_type": "code",
   "execution_count": null,
   "id": "edded112-8cac-4eaf-8a6a-f7db55658f4a",
   "metadata": {},
   "outputs": [],
   "source": []
  }
 ],
 "metadata": {
  "kernelspec": {
   "display_name": "Python 3 (ipykernel)",
   "language": "python",
   "name": "python3"
  },
  "language_info": {
   "codemirror_mode": {
    "name": "ipython",
    "version": 3
   },
   "file_extension": ".py",
   "mimetype": "text/x-python",
   "name": "python",
   "nbconvert_exporter": "python",
   "pygments_lexer": "ipython3",
   "version": "3.11.7"
  }
 },
 "nbformat": 4,
 "nbformat_minor": 5
}
