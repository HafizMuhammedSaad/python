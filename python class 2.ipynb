{
 "cells": [
  {
   "cell_type": "raw",
   "id": "20340ea3-36e1-482a-b4b7-94db7d01235c",
   "metadata": {},
   "source": [
    "print (\"Hello, world\")\n"
   ]
  },
  {
   "cell_type": "code",
   "execution_count": null,
   "id": "705bf18e-478a-4d77-9daf-cec6513d8486",
   "metadata": {},
   "outputs": [],
   "source": []
  },
  {
   "cell_type": "code",
   "execution_count": null,
   "id": "6ecedaa4-11d4-49bb-a681-6f87d273995c",
   "metadata": {},
   "outputs": [],
   "source": []
  }
 ],
 "metadata": {
  "kernelspec": {
   "display_name": "Python 3 (ipykernel)",
   "language": "python",
   "name": "python3"
  },
  "language_info": {
   "codemirror_mode": {
    "name": "ipython",
    "version": 3
   },
   "file_extension": ".py",
   "mimetype": "text/x-python",
   "name": "python",
   "nbconvert_exporter": "python",
   "pygments_lexer": "ipython3",
   "version": "3.11.7"
  }
 },
 "nbformat": 4,
 "nbformat_minor": 5
}
